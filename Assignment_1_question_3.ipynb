{
 "cells": [
  {
   "cell_type": "code",
   "execution_count": null,
   "id": "initial_id",
   "metadata": {
    "collapsed": true
   },
   "outputs": [],
   "source": [
    "# Assignment 1 Question 3\n",
    "import numpy as np\n",
    "import matplotlib.pyplot as plt"
   ]
  },
  {
   "metadata": {},
   "cell_type": "code",
   "outputs": [],
   "execution_count": null,
   "source": [
    "alpha = 0.9\n",
    "ht_hx = 1\n",
    "# hx =\n",
    "# ht =\n"
   ],
   "id": "7f3f5b9a18645f"
  },
  {
   "metadata": {},
   "cell_type": "code",
   "outputs": [],
   "execution_count": null,
   "source": "",
   "id": "48a67cfda2ace558"
  },
  {
   "metadata": {},
   "cell_type": "markdown",
   "source": [
    "Again recall $\\lambda = a h_t / h_x$.\n",
    "\n",
    "\n",
    "**ITCS:**\n",
    "$$\n",
    "u_{k,\\ell+1} - u_{k,\\ell} + \\frac{\\lambda}{2}\\left(u_{k+1,\\ell+1} - u_{k-1,\\ell+1}\\right) = 0.\n",
    "$$\n",
    "\n",
    "**Crank-Nicholson:**\n",
    "$$\n",
    "u_{k,\\ell+1} - u_{k,\\ell} + \\frac{\\lambda}{4}\\left(u_{k+1,\\ell+1} - u_{k-1,\\ell+1} + u_{k+1,\\ell} - u_{k-1,\\ell}\\right) = 0.\n",
    "$$\n",
    "\n",
    "**Lax-Wendroff:**\n",
    "$$\n",
    "u_{k,\\ell+1} - u_{k,\\ell}\n",
    "= -\\frac{\\lambda}{2}\\left(u_{k+1,\\ell} - u_{k-1,\\ell}\\right)\n",
    "+ \\frac{\\lambda^2}{2}\\left(u_{k+1,\\ell} - 2u_{k,\\ell} + u_{k-1,\\ell}\\right).\n",
    "$$\n"
   ],
   "id": "8a45bb17f27d368e"
  },
  {
   "metadata": {},
   "cell_type": "code",
   "outputs": [],
   "execution_count": null,
   "source": "",
   "id": "80c4bded326fafc9"
  }
 ],
 "metadata": {
  "kernelspec": {
   "display_name": "Python 3",
   "language": "python",
   "name": "python3"
  },
  "language_info": {
   "codemirror_mode": {
    "name": "ipython",
    "version": 2
   },
   "file_extension": ".py",
   "mimetype": "text/x-python",
   "name": "python",
   "nbconvert_exporter": "python",
   "pygments_lexer": "ipython2",
   "version": "2.7.6"
  }
 },
 "nbformat": 4,
 "nbformat_minor": 5
}
