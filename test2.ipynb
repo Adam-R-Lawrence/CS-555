{
 "cells": [
  {
   "metadata": {
    "ExecuteTime": {
     "end_time": "2025-03-21T15:49:45.226014Z",
     "start_time": "2025-03-21T15:49:45.218443Z"
    }
   },
   "cell_type": "code",
   "source": [
    "import numpy as np\n",
    "\n",
    "irradiance385 = 8.8  # mW/cm²\n",
    "irradiance405 = 8  # mW/cm²\n",
    "\n",
    "times = np.array([0.8, 1, 1.2, 1.4, 1.7, 2.1, 2.5, 3, 3.6, 4.4, 5.2, 6.3, 7.6, 9.1, 10.9, 13.1]) #seconds\n",
    "\n",
    "# Calculate radiant exposure in mJ/cm²:\n",
    "radiant_exposure385 = irradiance385 * times\n",
    "radiant_exposure405 = irradiance405 * times\n",
    "\n",
    "print(\"Exposure time (s) | 405nm Radiant Exposure (mJ/cm²) | 385nm Radiant Exposure (mJ/cm²)\")\n",
    "for t, H1, H2 in zip(times, radiant_exposure405, radiant_exposure385):\n",
    "    print(f\"{t:>15} | {H1:>22.5f} | {H2:>22.5f}\")\n"
   ],
   "id": "c984d461cf11dfd3",
   "outputs": [
    {
     "name": "stdout",
     "output_type": "stream",
     "text": [
      "Exposure time (s) | 405nm Radiant Exposure (mJ/cm²) | 385nm Radiant Exposure (mJ/cm²)\n",
      "            0.8 |                6.40000 |                7.04000\n",
      "            1.0 |                8.00000 |                8.80000\n",
      "            1.2 |                9.60000 |               10.56000\n",
      "            1.4 |               11.20000 |               12.32000\n",
      "            1.7 |               13.60000 |               14.96000\n",
      "            2.1 |               16.80000 |               18.48000\n",
      "            2.5 |               20.00000 |               22.00000\n",
      "            3.0 |               24.00000 |               26.40000\n",
      "            3.6 |               28.80000 |               31.68000\n",
      "            4.4 |               35.20000 |               38.72000\n",
      "            5.2 |               41.60000 |               45.76000\n",
      "            6.3 |               50.40000 |               55.44000\n",
      "            7.6 |               60.80000 |               66.88000\n",
      "            9.1 |               72.80000 |               80.08000\n",
      "           10.9 |               87.20000 |               95.92000\n",
      "           13.1 |              104.80000 |              115.28000\n"
     ]
    }
   ],
   "execution_count": 17
  },
  {
   "metadata": {
    "ExecuteTime": {
     "end_time": "2025-03-21T15:47:54.301128Z",
     "start_time": "2025-03-21T15:47:54.297976Z"
    }
   },
   "cell_type": "code",
   "source": "",
   "id": "89d022c1be3b00fa",
   "outputs": [],
   "execution_count": null
  },
  {
   "metadata": {
    "ExecuteTime": {
     "end_time": "2025-03-21T21:15:53.699999Z",
     "start_time": "2025-03-21T21:15:53.697139Z"
    }
   },
   "cell_type": "code",
   "source": [
    "import numpy as np\n",
    "a = np.zeros([3,3])\n",
    "\n",
    "a.shape"
   ],
   "id": "2389e8bfd4bb313c",
   "outputs": [
    {
     "data": {
      "text/plain": [
       "(3, 3)"
      ]
     },
     "execution_count": 3,
     "metadata": {},
     "output_type": "execute_result"
    }
   ],
   "execution_count": 3
  },
  {
   "metadata": {},
   "cell_type": "code",
   "outputs": [],
   "execution_count": null,
   "source": "",
   "id": "54f58ae688d7b455"
  }
 ],
 "metadata": {
  "kernelspec": {
   "name": "python3",
   "language": "python",
   "display_name": "Python 3 (ipykernel)"
  }
 },
 "nbformat": 5,
 "nbformat_minor": 9
}
