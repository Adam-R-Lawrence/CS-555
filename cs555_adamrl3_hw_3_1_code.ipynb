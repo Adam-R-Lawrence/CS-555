{
 "cells": [
  {
   "cell_type": "code",
   "id": "322cc42610c418e4",
   "metadata": {
    "ExecuteTime": {
     "end_time": "2025-03-17T20:04:23.501614Z",
     "start_time": "2025-03-17T20:04:23.498823Z"
    }
   },
   "source": [
    "# PDE: -u_xx - u_yy = f(x, y)  on  [0,1]^2\n",
    "# BCs:\n",
    "#   u(x, 0) = 0\n",
    "#   n·∇u = 0  at x=0 and x=1   (Neumann)\n",
    "#   u(x, 1) = cos(π x)"
   ],
   "outputs": [],
   "execution_count": 134
  },
  {
   "metadata": {
    "ExecuteTime": {
     "end_time": "2025-03-17T20:04:23.530946Z",
     "start_time": "2025-03-17T20:04:23.526734Z"
    }
   },
   "cell_type": "code",
   "source": [
    "import numpy as np\n",
    "import matplotlib.pyplot as plt\n",
    "import scipy.sparse as sp\n",
    "import scipy.sparse.linalg as sla"
   ],
   "id": "b81538c329b8054f",
   "outputs": [],
   "execution_count": 135
  },
  {
   "metadata": {},
   "cell_type": "code",
   "outputs": [],
   "execution_count": null,
   "source": [
    "def u_exact(x,y):\n",
    "    return (np.sinh(np.pi*y)/np.sinh(np.pi)) * np.cos(np.pi*x)"
   ],
   "id": "f47b5a09b8656332"
  },
  {
   "metadata": {
    "ExecuteTime": {
     "end_time": "2025-03-17T20:04:23.592392Z",
     "start_time": "2025-03-17T20:04:23.576863Z"
    }
   },
   "cell_type": "code",
   "source": [
    "def laplace_finite_difference(nx, ny):\n",
    "\n",
    "    # Create cell-centered grid\n",
    "    x1d, hx = np.linspace(0, 1, nx, endpoint=False, retstep=True)\n",
    "    y1d, hy = np.linspace(0, 1, ny, endpoint=False, retstep=True)\n",
    "    x1d += hx / 2\n",
    "    y1d += hy / 2\n",
    "\n",
    "    # Create 2D meshgrid\n",
    "    x, y = np.meshgrid(x1d, y1d)\n",
    "\n",
    "    # Compute and print mesh statistics\n",
    "    total_points = x.size\n",
    "    x_min, x_max = x.min(), x.max()\n",
    "    y_min, y_max = y.min(), y.max()\n",
    "    print(\"Mesh Statistics:\")\n",
    "    print(f\"  Total points: {total_points}\")\n",
    "    print(f\"  x range: {x_min:.3f} to {x_max:.3f} (spacing hx={hx:.5f})\")\n",
    "    print(f\"  y range: {y_min:.3f} to {y_max:.3f} (spacing hy={hy:.5f})\")\n",
    "\n",
    "    N = ny * nx\n",
    "\n",
    "    alpha = 1 / hx**2\n",
    "    beta  = 1 / hy**2\n",
    "\n",
    "    def f_func(x, y):\n",
    "        return 0.0\n",
    "\n",
    "    A = sp.lil_matrix((N, N))\n",
    "    b = np.zeros(N)\n",
    "\n",
    "    # Fill matrix A and vector b\n",
    "    for i in range(ny):\n",
    "        for j in range(nx):\n",
    "            k = i * nx + j\n",
    "            b[k] = f_func(x1d[j], y1d[i])\n",
    "\n",
    "            # --- x-direction discretization (Neumann BC at x=0 and x=nx-1) ---\n",
    "            # if j == 0:\n",
    "            #     # A[k, k]     += 2 * alpha\n",
    "            #     # A[k, k + 1] += -2 * alpha\n",
    "            # elif j == nx - 1:\n",
    "            #     # A[k, k]     += 2 * alpha\n",
    "            #     # A[k, k - 1] += -2 * alpha\n",
    "            # else:\n",
    "            if j != 0 and j != nx - 1:\n",
    "                A[k, k - 1] += -alpha\n",
    "                A[k, k]     += 2 * alpha\n",
    "                A[k, k + 1] += -alpha\n",
    "\n",
    "            #  --- y-direction discretization ---\n",
    "            if i != 0 and i != ny - 1:\n",
    "                A[k, k-nx] += -beta\n",
    "                A[k, k]     += 2 * beta\n",
    "                A[k, k+nx] += -beta\n",
    "\n",
    "    # Apply Dirichlet boundary conditions in the y-direction after the loop, vectorized\n",
    "    bottom = np.arange(nx)                        # i = 0 boundary indices\n",
    "    top = np.arange((ny - 1) * nx, ny * nx)         # i = ny-1 boundary indices\n",
    "\n",
    "    # Bottom boundary: u(x, 0) = 0\n",
    "    A[bottom, :] = 0\n",
    "    A[bottom, bottom] = 1.0\n",
    "    b[bottom] = 0.0\n",
    "\n",
    "    # Top boundary: u(x, 1) = sin(pi*x)\n",
    "    A[top, :] = 0\n",
    "    A[top, top] = 1.0\n",
    "    b[top] = np.sin(np.pi * x1d)\n",
    "\n",
    "    # Apply Dirichlet boundary conditions in the x-direction after the loop, vectorized\n",
    "    left = np.arange(0, N, nx)                    # j = 0 boundary indices\n",
    "    right = np.arange(nx - 1, N, nx)              # j = nx-1 boundary indices\n",
    "\n",
    "    # Left boundary: u(0, y) = 0\n",
    "    A[left, :] = 0\n",
    "    A[left, left] = 1.0\n",
    "    b[left] = 0.0\n",
    "\n",
    "    # Right boundary: u(1, y) = 0\n",
    "    A[right, :] = 0\n",
    "    A[right, right] = 1.0\n",
    "    b[right] = 0.0\n",
    "\n",
    "    # # Set print options for larger matrices\n",
    "    # np.set_printoptions(threshold=np.inf, linewidth=200, suppress=True, precision=1)\n",
    "    #\n",
    "    # # Print the matrix in full NumPy format\n",
    "    # print(A.toarray())\n",
    "\n",
    "    u_vec = sla.spsolve(A.tocsr(), b)\n",
    "    u = u_vec.reshape((ny, nx))\n",
    "\n",
    "    fig, ax = plt.subplots(figsize=(6, 5))\n",
    "    c = ax.pcolormesh(x, y, u, shading='auto', cmap='plasma')\n",
    "    ax.set_aspect('equal')\n",
    "    ax.set_axis_off()\n",
    "    cb = fig.colorbar(c, ax=ax)\n",
    "    cb.set_label(\"u\")\n",
    "    plt.show()\n"
   ],
   "id": "46baef672875d2b3",
   "outputs": [],
   "execution_count": 136
  },
  {
   "metadata": {
    "ExecuteTime": {
     "end_time": "2025-03-17T20:04:23.985310Z",
     "start_time": "2025-03-17T20:04:23.639768Z"
    }
   },
   "cell_type": "code",
   "source": "laplace_finite_difference(nx = 120, ny = 120)",
   "id": "48fed662a517a7df",
   "outputs": [
    {
     "name": "stdout",
     "output_type": "stream",
     "text": [
      "Mesh Statistics:\n",
      "  Total points: 14400\n",
      "  x range: 0.004 to 0.996 (spacing hx=0.00833)\n",
      "  y range: 0.004 to 0.996 (spacing hy=0.00833)\n"
     ]
    },
    {
     "data": {
      "text/plain": [
       "<Figure size 600x500 with 2 Axes>"
      ],
      "image/png": "[encoded data removed]"
     },
     "metadata": {},
     "output_type": "display_data"
    }
   ],
   "execution_count": 137
  },
  {
   "metadata": {
    "ExecuteTime": {
     "end_time": "2025-03-17T20:04:23.990403Z",
     "start_time": "2025-03-17T20:04:23.989247Z"
    }
   },
   "cell_type": "code",
   "source": "",
   "id": "8f8204c03949251e",
   "outputs": [],
   "execution_count": null
  }
 ],
 "metadata": {
  "kernelspec": {
   "display_name": "Python 3",
   "language": "python",
   "name": "python3"
  },
  "language_info": {
   "codemirror_mode": {
    "name": "ipython",
    "version": 2
   },
   "file_extension": ".py",
   "mimetype": "text/x-python",
   "name": "python",
   "nbconvert_exporter": "python",
   "pygments_lexer": "ipython2",
   "version": "2.7.6"
  }
 },
 "nbformat": 4,
 "nbformat_minor": 5
}
