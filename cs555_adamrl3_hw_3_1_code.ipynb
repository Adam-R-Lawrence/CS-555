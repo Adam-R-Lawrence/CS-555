{
 "cells": [
  {
   "cell_type": "code",
   "id": "322cc42610c418e4",
   "metadata": {
    "ExecuteTime": {
     "end_time": "2025-03-17T17:36:19.023356Z",
     "start_time": "2025-03-17T17:36:19.021136Z"
    }
   },
   "source": [
    "# PDE: -u_xx - u_yy = f(x, y)  on  [0,1]^2\n",
    "# BCs:\n",
    "#   u(x, 0) = 0\n",
    "#   n·∇u = 0  at x=0 and x=1   (Neumann)\n",
    "#   u(x, 1) = cos(π x)"
   ],
   "outputs": [],
   "execution_count": 10
  },
  {
   "metadata": {
    "ExecuteTime": {
     "end_time": "2025-03-17T17:36:19.046131Z",
     "start_time": "2025-03-17T17:36:19.044106Z"
    }
   },
   "cell_type": "code",
   "source": [
    "import numpy as np\n",
    "import matplotlib.pyplot as plt\n",
    "import scipy.sparse as sp\n",
    "import scipy.sparse.linalg as sla"
   ],
   "id": "b81538c329b8054f",
   "outputs": [],
   "execution_count": 11
  },
  {
   "metadata": {
    "ExecuteTime": {
     "end_time": "2025-03-17T17:36:19.106369Z",
     "start_time": "2025-03-17T17:36:19.100736Z"
    }
   },
   "cell_type": "code",
   "source": [
    "def laplace_finite_difference(nx, ny):\n",
    "\n",
    "    # Create cell-centered grid\n",
    "    x1d, hx = np.linspace(0, 1, nx, endpoint=False, retstep=True)\n",
    "    y1d, hy = np.linspace(0, 1, ny, endpoint=False, retstep=True)\n",
    "    x1d += hx / 2\n",
    "    y1d += hy / 2\n",
    "\n",
    "    # Create 2D meshgrid\n",
    "    x, y = np.meshgrid(x1d, y1d)\n",
    "\n",
    "    # Compute and print mesh statistics\n",
    "    total_points = x.size\n",
    "    x_min, x_max = x.min(), x.max()\n",
    "    y_min, y_max = y.min(), y.max()\n",
    "    print(\"Mesh Statistics:\")\n",
    "    print(f\"  Total points: {total_points}\")\n",
    "    print(f\"  x range: {x_min:.3f} to {x_max:.3f} (spacing hx={hx:.5f})\")\n",
    "    print(f\"  y range: {y_min:.3f} to {y_max:.3f} (spacing hy={hy:.5f})\")\n",
    "\n",
    "    N = ny * nx\n",
    "\n",
    "    alpha = 1 / hx**2\n",
    "    beta  = 1 / hy**2\n",
    "\n",
    "    def f_func(x, y):\n",
    "        return 0.0\n",
    "\n",
    "    A = sp.lil_matrix((N, N))\n",
    "    b = np.zeros(N)\n",
    "\n",
    "    # Fill matrix A and vector b for interior nodes (excluding y-boundaries)\n",
    "    for i in range(1, ny - 1):\n",
    "        for j in range(nx):\n",
    "            k = i * nx + j\n",
    "            b[k] = f_func(x1d[j], y1d[i])\n",
    "\n",
    "            # --- x-direction discretization (Neumann BC at x=0 and x=nx-1) ---\n",
    "            if j == 0:\n",
    "                # Left boundary Neumann condition (ghost point approach)\n",
    "                A[k, k]     += 2 * alpha\n",
    "                A[k, k + 1] += -2 * alpha\n",
    "            elif j == nx - 1:\n",
    "                # Right boundary Neumann condition\n",
    "                A[k, k]     += 2 * alpha\n",
    "                A[k, k - 1] += -2 * alpha\n",
    "            else:\n",
    "                # Interior x nodes\n",
    "                A[k, k - 1] += -alpha\n",
    "                A[k, k]     += 2 * alpha\n",
    "                A[k, k + 1] += -alpha\n",
    "\n",
    "            # --- y-direction discretization ---\n",
    "            # Lower neighbor: if i > 1, then use interior discretization,\n",
    "            # otherwise (i==1) the lower neighbor is the bottom boundary (u=0)\n",
    "            if i > 1:\n",
    "                A[k, k - nx] += -beta\n",
    "\n",
    "            # Upper neighbor: if i==ny-2, then the upper neighbor is the top boundary\n",
    "            if i == ny - 2:\n",
    "                b[k] += beta * np.sin(np.pi * x1d[j])\n",
    "            else:\n",
    "                A[k, k + nx] += -beta\n",
    "\n",
    "            # Central term for y-direction\n",
    "            A[k, k] += 2 * beta\n",
    "\n",
    "\n",
    "    # Apply Dirichlet boundary conditions in the y-direction after the loop, vectorized\n",
    "    bottom = np.arange(nx)                        # i = 0 boundary indices\n",
    "    top = np.arange((ny - 1) * nx, ny * nx)         # i = ny-1 boundary indices\n",
    "\n",
    "    # Bottom boundary: u(x, 0) = 0\n",
    "    A[bottom, :] = 0\n",
    "    A[bottom, bottom] = 1.0\n",
    "    b[bottom] = 0.0\n",
    "\n",
    "    # Top boundary: u(x, 1) = sin(pi*x)\n",
    "    A[top, :] = 0\n",
    "    A[top, top] = 1.0\n",
    "    b[top] = np.sin(np.pi * x1d)\n",
    "\n",
    "    u_vec = sla.spsolve(A.tocsr(), b)\n",
    "    u = u_vec.reshape((ny, nx))\n",
    "\n",
    "    # fig, ax = plt.subplots(figsize=(6, 5))\n",
    "    # c = ax.pcolormesh(x, y, u, shading='auto', cmap='plasma')\n",
    "    # ax.set_aspect('equal')\n",
    "    # ax.set_axis_off()\n",
    "    # cb = fig.colorbar(c, ax=ax)\n",
    "    # cb.set_label(\"u\")\n",
    "    # plt.show()\n"
   ],
   "id": "46baef672875d2b3",
   "outputs": [],
   "execution_count": 12
  },
  {
   "metadata": {
    "ExecuteTime": {
     "end_time": "2025-03-17T17:36:19.987972Z",
     "start_time": "2025-03-17T17:36:19.150291Z"
    }
   },
   "cell_type": "code",
   "source": "laplace_finite_difference(nx = 200, ny = 200)",
   "id": "48fed662a517a7df",
   "outputs": [
    {
     "name": "stdout",
     "output_type": "stream",
     "text": [
      "Mesh Statistics:\n",
      "  Total points: 40000\n",
      "  x range: 0.003 to 0.997 (spacing hx=0.00500)\n",
      "  y range: 0.003 to 0.997 (spacing hy=0.00500)\n"
     ]
    },
    {
     "data": {
      "text/plain": [
       "<Figure size 600x500 with 2 Axes>"
      ],
      "image/png": "[encoded data removed]"
     },
     "metadata": {},
     "output_type": "display_data"
    }
   ],
   "execution_count": 13
  },
  {
   "metadata": {
    "ExecuteTime": {
     "end_time": "2025-03-17T17:36:20Z",
     "start_time": "2025-03-17T17:36:19.998741Z"
    }
   },
   "cell_type": "code",
   "source": "",
   "id": "8f8204c03949251e",
   "outputs": [],
   "execution_count": null
  }
 ],
 "metadata": {
  "kernelspec": {
   "display_name": "Python 3",
   "language": "python",
   "name": "python3"
  },
  "language_info": {
   "codemirror_mode": {
    "name": "ipython",
    "version": 2
   },
   "file_extension": ".py",
   "mimetype": "text/x-python",
   "name": "python",
   "nbconvert_exporter": "python",
   "pygments_lexer": "ipython2",
   "version": "2.7.6"
  }
 },
 "nbformat": 4,
 "nbformat_minor": 5
}
