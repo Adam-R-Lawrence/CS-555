{
 "cells": [
  {
   "cell_type": "code",
   "id": "322cc42610c418e4",
   "metadata": {
    "ExecuteTime": {
     "end_time": "2025-03-18T14:03:31.411608Z",
     "start_time": "2025-03-18T14:03:31.408862Z"
    }
   },
   "source": [
    "# PDE: -u_xx - u_yy = f(x, y)  on  [0,1]^2\n",
    "# BCs:\n",
    "#   u(x, 0) = 0\n",
    "#   n·∇u = 0  at x=0 and x=1   (Neumann)\n",
    "#   u(x, 1) = cos(π x)"
   ],
   "outputs": [],
   "execution_count": 130
  },
  {
   "metadata": {
    "ExecuteTime": {
     "end_time": "2025-03-18T14:03:31.435098Z",
     "start_time": "2025-03-18T14:03:31.419766Z"
    }
   },
   "cell_type": "code",
   "source": [
    "import numpy as np\n",
    "import matplotlib.pyplot as plt\n",
    "import scipy.sparse as sp\n",
    "import scipy.sparse.linalg as sla"
   ],
   "id": "b81538c329b8054f",
   "outputs": [],
   "execution_count": 131
  },
  {
   "metadata": {
    "ExecuteTime": {
     "end_time": "2025-03-18T14:03:31.478645Z",
     "start_time": "2025-03-18T14:03:31.471220Z"
    }
   },
   "cell_type": "code",
   "source": [
    "def u_exact(x,y):\n",
    "    return (np.sinh(np.pi*y)/np.sinh(np.pi)) * np.cos(np.pi*x)\n",
    "\n",
    "def plot_field(x,y,u):\n",
    "    fig, ax = plt.subplots(figsize=(6, 5))\n",
    "    c = ax.pcolormesh(x, y, u, shading='auto', cmap='plasma')\n",
    "    ax.set_aspect('equal')\n",
    "    ax.set_axis_off()\n",
    "    cb = fig.colorbar(c, ax=ax)\n",
    "    cb.set_label(\"u\")\n",
    "    plt.savefig(\"u_fd.png\")\n",
    "    plt.show()\n",
    "\n",
    "def gnorm(u, hx, hy):\n",
    "    return np.sqrt(hx * hy * np.sum(u**2))\n"
   ],
   "id": "f47b5a09b8656332",
   "outputs": [],
   "execution_count": 132
  },
  {
   "metadata": {
    "ExecuteTime": {
     "end_time": "2025-03-18T14:03:31.539562Z",
     "start_time": "2025-03-18T14:03:31.528447Z"
    }
   },
   "cell_type": "code",
   "source": [
    "def laplace_finite_difference(nx, ny, hx , hy):\n",
    "\n",
    "    N = ny * nx\n",
    "\n",
    "    alpha = 1 / hx ** 2\n",
    "    beta = 1 / hy ** 2\n",
    "\n",
    "    def f_func(x, y):\n",
    "        return 0.0\n",
    "\n",
    "    A = sp.lil_matrix((N, N))\n",
    "    b = np.zeros(N)\n",
    "\n",
    "    # Fill matrix A and vector b\n",
    "    for i in range(ny):\n",
    "        for j in range(nx):\n",
    "            k = i * nx + j\n",
    "            b[k] = f_func(x1d[j], y1d[i])\n",
    "\n",
    "            # --- x-direction discretization (only for interior nodes) ---\n",
    "            if j != 0 and j != nx - 1:\n",
    "                A[k, k - 1] += -alpha\n",
    "                A[k, k] += 2 * alpha\n",
    "                A[k, k + 1] += -alpha\n",
    "\n",
    "            #  --- y-direction discretization (only for interior nodes) ---\n",
    "            if i != 0 and i != ny - 1:\n",
    "                A[k, k - nx] += -beta\n",
    "                A[k, k] += 2 * beta\n",
    "                A[k, k + nx] += -beta\n",
    "\n",
    "    # Apply Dirichlet boundary conditions in the y-direction (vectorized)\n",
    "    bottom = np.arange(nx)  # i = 0 boundary indices\n",
    "    top = np.arange((ny - 1) * nx, ny * nx)  # i = ny-1 boundary indices\n",
    "\n",
    "    # Bottom boundary: u(x, 0) = 0\n",
    "    A[bottom, :] = 0\n",
    "    A[bottom, bottom] = 1.0\n",
    "    b[bottom] = 0.0\n",
    "\n",
    "    # Top boundary: u(x, 1) = sin(pi*x)\n",
    "    A[top, :] = 0\n",
    "    A[top, top] = 1.0\n",
    "    b[top] = np.sin(np.pi * x1d)\n",
    "\n",
    "    # Apply Dirichlet boundary conditions in the x-direction (vectorized)\n",
    "    left = np.arange(0, N, nx)  # j = 0 boundary indices\n",
    "    right = np.arange(nx - 1, N, nx)  # j = nx-1 boundary indices\n",
    "\n",
    "    # Left boundary: u(0, y) = 0\n",
    "    A[left, :] = 0\n",
    "    A[left, left] = 1.0\n",
    "    b[left] = 0.0\n",
    "\n",
    "    # Right boundary: u(1, y) = 0\n",
    "    A[right, :] = 0\n",
    "    A[right, right] = 1.0\n",
    "    b[right] = 0.0\n",
    "\n",
    "    # Solve the linear system\n",
    "    u_vec = sla.spsolve(A.tocsr(), b)\n",
    "    u = u_vec.reshape((ny, nx))\n",
    "\n",
    "\n",
    "\n",
    "    # Return necessary variables for further analysis\n",
    "    return A, b, u\n"
   ],
   "id": "46baef672875d2b3",
   "outputs": [],
   "execution_count": 133
  },
  {
   "metadata": {
    "ExecuteTime": {
     "end_time": "2025-03-18T14:03:31.665901Z",
     "start_time": "2025-03-18T14:03:31.586900Z"
    }
   },
   "cell_type": "code",
   "source": [
    "x_spacings = [16]\n",
    "y_spacings = [16]\n",
    "\n",
    "for nx,ny in zip(x_spacings, y_spacings):\n",
    "\n",
    "    x1d, hx = np.linspace(0, 1, nx, endpoint=False, retstep=True)\n",
    "    y1d, hy = np.linspace(0, 1, ny, endpoint=False, retstep=True)\n",
    "    x1d += hx / 2\n",
    "    y1d += hy / 2\n",
    "\n",
    "    x, y = np.meshgrid(x1d, y1d)\n",
    "\n",
    "    total_points = x.size\n",
    "    x_min, x_max = x.min(), x.max()\n",
    "    y_min, y_max = y.min(), y.max()\n",
    "\n",
    "    print(\"Mesh Statistics\")\n",
    "    print(f\"Total Nodes: {total_points}\")\n",
    "    print(f\"nx = {nx:.5f} and ny = {ny:.5f}\")\n",
    "    print(f\"hx = {hx:.5f} and hy = {hy:.5f}\")\n",
    "\n",
    "    A, b, u = laplace_finite_difference(nx=nx, ny=ny, hx=hx, hy=hy)\n",
    "\n",
    "    U = u_exact(x, y)\n",
    "\n",
    "    plot_field(x,y,u)\n",
    "    #plot_field(x,y,U)\n"
   ],
   "id": "48fed662a517a7df",
   "outputs": [
    {
     "name": "stdout",
     "output_type": "stream",
     "text": [
      "Mesh Statistics\n",
      "Total Nodes: 256\n",
      "nx = 16.00000 and ny = 16.00000\n",
      "hx = 0.06250 and hy = 0.06250\n"
     ]
    },
    {
     "data": {
      "text/plain": [
       "<Figure size 600x500 with 2 Axes>"
      ],
      "image/png": "[encoded data removed]"
     },
     "metadata": {},
     "output_type": "display_data"
    }
   ],
   "execution_count": 134
  },
  {
   "metadata": {
    "ExecuteTime": {
     "end_time": "2025-03-18T14:03:31.683886Z",
     "start_time": "2025-03-18T14:03:31.681320Z"
    }
   },
   "cell_type": "code",
   "source": [
    "F_ex = (A @ u.flatten() - b).reshape(u.shape)\n",
    "print(\"Truncation:\", gnorm(F_ex, hx, hy))\n"
   ],
   "id": "418ba76d0320a950",
   "outputs": [
    {
     "name": "stdout",
     "output_type": "stream",
     "text": [
      "Truncation: 2.8709396599227175e-14\n"
     ]
    }
   ],
   "execution_count": 135
  },
  {
   "metadata": {
    "ExecuteTime": {
     "end_time": "2025-03-18T14:03:31.831141Z",
     "start_time": "2025-03-18T14:03:31.728267Z"
    }
   },
   "cell_type": "code",
   "source": [
    "A_dense = A.toarray()\n",
    "A_inv = np.linalg.inv(A_dense)\n",
    "print(\"Norm of A^-1:\", np.linalg.norm(A_inv))\n"
   ],
   "id": "98d7b5ddb1595100",
   "outputs": [
    {
     "name": "stdout",
     "output_type": "stream",
     "text": [
      "Norm of A^-1: 8.723767841679132\n"
     ]
    }
   ],
   "execution_count": 136
  },
  {
   "metadata": {
    "ExecuteTime": {
     "end_time": "2025-03-18T14:03:31.851787Z",
     "start_time": "2025-03-18T14:03:31.849135Z"
    }
   },
   "cell_type": "code",
   "source": "print(\"Error:\", gnorm(U - u, hx, hy))\n",
   "id": "bb98c671344d6b9",
   "outputs": [
    {
     "name": "stdout",
     "output_type": "stream",
     "text": [
      "Error: 0.40892397008475195\n"
     ]
    }
   ],
   "execution_count": 137
  }
 ],
 "metadata": {
  "kernelspec": {
   "display_name": "Python 3",
   "language": "python",
   "name": "python3"
  },
  "language_info": {
   "codemirror_mode": {
    "name": "ipython",
    "version": 2
   },
   "file_extension": ".py",
   "mimetype": "text/x-python",
   "name": "python",
   "nbconvert_exporter": "python",
   "pygments_lexer": "ipython2",
   "version": "2.7.6"
  }
 },
 "nbformat": 4,
 "nbformat_minor": 5
}
