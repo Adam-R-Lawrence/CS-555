{
 "cells": [
  {
   "metadata": {},
   "cell_type": "code",
   "outputs": [],
   "execution_count": null,
   "source": [
    "\"\"\"Solve\n",
    "u_t + (u^2 / 2)_x = 0 on [0, 5]\n",
    "with fixed boundary conditions.\n",
    "\"\"\""
   ],
   "id": "1af4c31c0ac6e6d9"
  },
  {
   "metadata": {},
   "cell_type": "code",
   "outputs": [],
   "execution_count": null,
   "source": [
    "import numpy as np\n",
    "import matplotlib.pyplot as plt\n"
   ],
   "id": "576e68014c15cd98"
  },
  {
   "metadata": {},
   "cell_type": "code",
   "outputs": [],
   "execution_count": null,
   "source": [
    "# Example initial condition.\n",
    "# Implement your own for problem 1 and 2.\n",
    "def step(x):\n",
    "    u = np.zeros(x.shape)\n",
    "    for j in range(len(x)):\n",
    "        if (x[j] >= 0.6) and (x[j] <= 0.8):\n",
    "            u[j] = 1.0\n",
    "    return u\n",
    "\n",
    "def exact_rarefraction(...):\n",
    "    # IMPLEMENT\n",
    "    # .....\n",
    "    return u\n",
    "\n",
    "T = 2.0\n",
    "gamma = 0.95\n",
    "nx = 128"
   ],
   "id": "51a7ac658df94be3"
  },
  {
   "metadata": {},
   "cell_type": "code",
   "outputs": [],
   "execution_count": null,
   "source": [
    "\n",
    "\n",
    "x, hx = np.linspace(0, 5, nx, endpoint=False, retstep=True)\n",
    "# Ghost cell mask: pretend first and last DoF is a ghost cell\n",
    "mask =  np.ones(len(x), dtype=bool)\n",
    "mask[:1] = mask[-1:] = False\n",
    "# Indexing arrays\n",
    "K = np.arange(0, nx)   # 0, ..., nx-1\n",
    "Km1 = np.roll(K, 1)    # nx-1, 0, 1, ..., nx-2\n",
    "Kp1 = np.roll(K, -1)   # 1, ..., nx\n",
    "\n",
    "ht = hx * gamma\n",
    "nt = int(np.ceil(T/ht))\n",
    "ht = T/nt\n",
    "\n",
    "print('T = %g' % T)\n",
    "print('tsteps = %d' % nt)\n",
    "print('    hx = %g' % hx)\n",
    "print('    ht = %g' % ht)\n",
    "print('lambda = %g' % gamma)\n",
    "\n",
    "u = step(x)\n",
    "u0 = u.copy()\n",
    "\n",
    "def f(u):\n",
    "    return u**2/2\n",
    "\n",
    "def fprime(u):\n",
    "    return u\n",
    "\n",
    "for n in range(1, nt+1):\n",
    "\n",
    "    # add code here\n",
    "    # ...\n",
    "\n",
    "    # Which u values need to be updated?\n",
    "    # u = u - ht/hx * (flux[K]-flux[Km1])\n",
    "    # uexact = exact_rarefraction(x, time, u0)\n",
    "\n",
    "    # Plot Computed and exact solution\n",
    "    time = n * ht\n",
    "    if abs(time-1.) < ht/2 or abs(time-2) < ht/2.:\n",
    "        plt.title('t=%g, i=%g' % (n * ht, n))\n",
    "        plt.plot(x[mask], u[mask], 'r-', linewidth=1, label='approximate')\n",
    "        #plt.plot(x[mask], uexact[mask], '-.', linewidth=3, label='exact')\n",
    "        plt.legend(); plt.show()"
   ],
   "id": "78605617516adf3f"
  }
 ],
 "metadata": {
  "kernelspec": {
   "display_name": "Python 3",
   "language": "python",
   "name": "python3"
  },
  "language_info": {
   "codemirror_mode": {
    "name": "ipython",
    "version": 2
   },
   "file_extension": ".py",
   "mimetype": "text/x-python",
   "name": "python",
   "nbconvert_exporter": "python",
   "pygments_lexer": "ipython2",
   "version": "2.7.6"
  }
 },
 "nbformat": 4,
 "nbformat_minor": 5
}
